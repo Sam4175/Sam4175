{
  "cells": [
    {
      "cell_type": "code",
      "execution_count": 7,
      "metadata": {
        "id": "MVLnNLcLylvh"
      },
      "outputs": [],
      "source": [
        "import cv2\n",
        "import numpy as np\n",
        "from google.colab.patches import cv2_imshow\n",
        "# cap = cv2.VideoCapture(0) #This line will only be used for Live detection\n",
        "def handGesture(img):\n",
        "  # ret,img = cap.read()\n",
        "  img = cv2.resize(img, (int(img.shape[1]/4), int(img.shape[0]/4)))\n",
        "  gray = cv2.cvtColor(img,cv2.COLOR_BGR2GRAY)\n",
        "  blur = cv2.GaussianBlur(gray,(5,5),0)\n",
        "  ret,thresh1 = cv2.threshold(blur,70,255,cv2.THRESH_BINARY_INV+cv2.THRESH_OTSU)\n",
        "\n",
        "  contours, hierarchy = cv2.findContours(thresh1,cv2.RETR_TREE,cv2.CHAIN_APPROX_SIMPLE)\n",
        "  drawing = np.zeros(img.shape,np.uint8)\n",
        "\n",
        "  max_area=0\n",
        "  \n",
        "  for i in range(len(contours)):\n",
        "    cnt=contours[i]\n",
        "    area = cv2.contourArea(cnt)\n",
        "    if (area>max_area):\n",
        "      max_area=area\n",
        "      ci=i\n",
        "  cnt=contours[ci]\n",
        "  hull = cv2.convexHull(cnt)\n",
        "  moments = cv2.moments(cnt)\n",
        "  if moments['m00']!=0:\n",
        "    cx = int(moments['m10']/moments['m00']) # cx = M10/M00\n",
        "    cy = int(moments['m01']/moments['m00']) # cy = M01/M00\n",
        "            \n",
        "  centr=(cx,cy)       \n",
        "  cv2.circle(img,centr,5,[0,0,255],2)       \n",
        "  cv2.drawContours(drawing,[cnt],0,(0,255,0),2) \n",
        "  cv2.drawContours(drawing,[hull],0,(0,0,255),2) \n",
        "        \n",
        "  cnt = cv2.approxPolyDP(cnt,0.01*cv2.arcLength(cnt,True),True)\n",
        "  hull = cv2.convexHull(cnt,returnPoints = False)\n",
        "  \n",
        "  if (1):\n",
        "    defects = cv2.convexityDefects(cnt,hull)\n",
        "    mind=0\n",
        "    maxd=0\n",
        "    for i in range(defects.shape[0]):\n",
        "      s,e,f,d = defects[i,0]\n",
        "      start = tuple(cnt[s][0])\n",
        "      end = tuple(cnt[e][0])\n",
        "      far = tuple(cnt[f][0])\n",
        "      dist = cv2.pointPolygonTest(cnt,centr,True)\n",
        "      cv2.line(img,start,end,[0,0,255],5)\n",
        "      \n",
        "      cv2.circle(img,far,10,[0,0,255],-1)\n",
        "      font = cv2.FONT_HERSHEY_DUPLEX\n",
        "    cv2.putText(img, \"Number of Fingers: \"+str(i), ( 26, 106), font, 1, (0, 0, 255), 2)\n",
        "    return (str(i))"
      ]
    },
    {
      "cell_type": "code",
      "source": [
        "input = cv2.imread(\"/content/6 fingers.jpeg\")\n",
        "output = handGesture(input)\n",
        "'''cv2_imshow'''\n",
        "print(output)"
      ],
      "metadata": {
        "colab": {
          "base_uri": "https://localhost:8080/"
        },
        "id": "sUGaRnZmuKhx",
        "outputId": "e1ab1608-160a-4192-9ab6-974209d4762f"
      },
      "execution_count": 9,
      "outputs": [
        {
          "output_type": "stream",
          "name": "stdout",
          "text": [
            "6\n"
          ]
        }
      ]
    },
    {
      "cell_type": "code",
      "execution_count": 10,
      "metadata": {
        "colab": {
          "base_uri": "https://localhost:8080/"
        },
        "id": "IFP90KDIzBYO",
        "outputId": "25ab9baa-1c56-4ef3-c875-6bb89d74e295"
      },
      "outputs": [
        {
          "output_type": "stream",
          "name": "stdout",
          "text": [
            "Requirement already satisfied: pyngrok in /usr/local/lib/python3.7/dist-packages (5.1.0)\n",
            "Requirement already satisfied: PyYAML in /usr/local/lib/python3.7/dist-packages (from pyngrok) (3.13)\n"
          ]
        }
      ],
      "source": [
        "pip install pyngrok"
      ]
    },
    {
      "cell_type": "code",
      "execution_count": 11,
      "metadata": {
        "colab": {
          "base_uri": "https://localhost:8080/"
        },
        "id": "-opFwg6wzGbY",
        "outputId": "595294c5-0fcc-4028-8784-43c6c3d08a3b"
      },
      "outputs": [
        {
          "output_type": "stream",
          "name": "stdout",
          "text": [
            "Requirement already satisfied: flask_ngrok in /usr/local/lib/python3.7/dist-packages (0.0.25)\n",
            "Requirement already satisfied: requests in /usr/local/lib/python3.7/dist-packages (from flask_ngrok) (2.23.0)\n",
            "Requirement already satisfied: Flask>=0.8 in /usr/local/lib/python3.7/dist-packages (from flask_ngrok) (1.1.4)\n",
            "Requirement already satisfied: itsdangerous<2.0,>=0.24 in /usr/local/lib/python3.7/dist-packages (from Flask>=0.8->flask_ngrok) (1.1.0)\n",
            "Requirement already satisfied: click<8.0,>=5.1 in /usr/local/lib/python3.7/dist-packages (from Flask>=0.8->flask_ngrok) (7.1.2)\n",
            "Requirement already satisfied: Werkzeug<2.0,>=0.15 in /usr/local/lib/python3.7/dist-packages (from Flask>=0.8->flask_ngrok) (1.0.1)\n",
            "Requirement already satisfied: Jinja2<3.0,>=2.10.1 in /usr/local/lib/python3.7/dist-packages (from Flask>=0.8->flask_ngrok) (2.11.3)\n",
            "Requirement already satisfied: MarkupSafe>=0.23 in /usr/local/lib/python3.7/dist-packages (from Jinja2<3.0,>=2.10.1->Flask>=0.8->flask_ngrok) (2.0.1)\n",
            "Requirement already satisfied: urllib3!=1.25.0,!=1.25.1,<1.26,>=1.21.1 in /usr/local/lib/python3.7/dist-packages (from requests->flask_ngrok) (1.24.3)\n",
            "Requirement already satisfied: idna<3,>=2.5 in /usr/local/lib/python3.7/dist-packages (from requests->flask_ngrok) (2.10)\n",
            "Requirement already satisfied: chardet<4,>=3.0.2 in /usr/local/lib/python3.7/dist-packages (from requests->flask_ngrok) (3.0.4)\n",
            "Requirement already satisfied: certifi>=2017.4.17 in /usr/local/lib/python3.7/dist-packages (from requests->flask_ngrok) (2021.10.8)\n"
          ]
        }
      ],
      "source": [
        "!pip install flask_ngrok"
      ]
    },
    {
      "cell_type": "code",
      "execution_count": 12,
      "metadata": {
        "colab": {
          "base_uri": "https://localhost:8080/"
        },
        "id": "SeSwDn5MzLJf",
        "outputId": "5a7323b2-a746-4857-ddb8-c74f60c17768"
      },
      "outputs": [
        {
          "output_type": "stream",
          "name": "stdout",
          "text": [
            "Authtoken saved to configuration file: /root/.ngrok2/ngrok.yml\n"
          ]
        }
      ],
      "source": [
        "'''Use your own authentication token'''\n",
        "!ngrok authtoken 22EGVz9Y7DYxPz1Ku9gOLTLFn4i_GyaLYHDKnQH9PT5VuLHY"
      ]
    },
    {
      "cell_type": "code",
      "execution_count": 13,
      "metadata": {
        "colab": {
          "base_uri": "https://localhost:8080/"
        },
        "id": "Y8PILtvI0ElK",
        "outputId": "be94c19f-1ed1-4019-f577-b08ab94fd42c"
      },
      "outputs": [
        {
          "output_type": "stream",
          "name": "stdout",
          "text": [
            " * Serving Flask app \"__main__\" (lazy loading)\n",
            " * Environment: production\n",
            "\u001b[31m   WARNING: This is a development server. Do not use it in a production deployment.\u001b[0m\n",
            "\u001b[2m   Use a production WSGI server instead.\u001b[0m\n",
            " * Debug mode: off\n"
          ]
        },
        {
          "output_type": "stream",
          "name": "stderr",
          "text": [
            " * Running on http://127.0.0.1:5000/ (Press CTRL+C to quit)\n"
          ]
        },
        {
          "output_type": "stream",
          "name": "stdout",
          "text": [
            " * Running on http://bee4-104-196-163-228.ngrok.io\n",
            " * Traffic stats available on http://127.0.0.1:4040\n"
          ]
        },
        {
          "output_type": "stream",
          "name": "stderr",
          "text": [
            "127.0.0.1 - - [27/Dec/2021 11:54:28] \"\u001b[37mGET / HTTP/1.1\u001b[0m\" 200 -\n",
            "127.0.0.1 - - [27/Dec/2021 11:54:29] \"\u001b[37mGET / HTTP/1.1\u001b[0m\" 200 -\n",
            "127.0.0.1 - - [27/Dec/2021 11:54:30] \"\u001b[33mGET /favicon.ico HTTP/1.1\u001b[0m\" 404 -\n",
            "127.0.0.1 - - [27/Dec/2021 11:54:37] \"\u001b[37mPOST /submit HTTP/1.1\u001b[0m\" 200 -\n"
          ]
        },
        {
          "output_type": "stream",
          "name": "stdout",
          "text": [
            "static/6 fingers.jpeg\n"
          ]
        },
        {
          "output_type": "stream",
          "name": "stderr",
          "text": [
            "127.0.0.1 - - [27/Dec/2021 11:54:37] \"\u001b[37mGET /static/6%20fingers.jpeg HTTP/1.1\u001b[0m\" 200 -\n",
            "[2021-12-27 11:54:39,490] ERROR in app: Exception on /submit [GET]\n",
            "Traceback (most recent call last):\n",
            "  File \"/usr/local/lib/python3.7/dist-packages/flask/app.py\", line 2447, in wsgi_app\n",
            "    response = self.full_dispatch_request()\n",
            "  File \"/usr/local/lib/python3.7/dist-packages/flask/app.py\", line 1953, in full_dispatch_request\n",
            "    return self.finalize_request(rv)\n",
            "  File \"/usr/local/lib/python3.7/dist-packages/flask/app.py\", line 1968, in finalize_request\n",
            "    response = self.make_response(rv)\n",
            "  File \"/usr/local/lib/python3.7/dist-packages/flask/app.py\", line 2098, in make_response\n",
            "    \"The view function did not return a valid response. The\"\n",
            "TypeError: The view function did not return a valid response. The function either returned None or ended without a return statement.\n",
            "127.0.0.1 - - [27/Dec/2021 11:54:39] \"\u001b[35m\u001b[1mGET /submit HTTP/1.1\u001b[0m\" 500 -\n"
          ]
        }
      ],
      "source": [
        "import numpy as np\n",
        "from flask import Flask, render_template, request\n",
        "from flask_ngrok import run_with_ngrok\n",
        "import cv2\n",
        "\n",
        "from flask import Flask, render_template, request\n",
        "from flask_ngrok import run_with_ngrok\n",
        "\n",
        "app = Flask(__name__)\n",
        "run_with_ngrok(app)   \n",
        "\n",
        "\n",
        "@app.route(\"/\", methods=['GET', 'POST'])\n",
        "def main():\n",
        "  return render_template(\"index.html\")\n",
        "\n",
        "@app.route(\"/submit\", methods = ['GET', 'POST'])\n",
        "def get_output():\n",
        "  if request.method == 'POST':\n",
        "    img = request.files['my_image']\n",
        "    img_path = \"static/\" + img.filename  \n",
        "    img.save(img_path)\n",
        "    print(img_path)\n",
        "    img=cv2.imread(img_path)\n",
        "    p = handGesture(img)\n",
        "    return render_template(\"index.html\", prediction = p, img_path = img_path)\n",
        "\n",
        "app.run()"
      ]
    },
    {
      "cell_type": "code",
      "execution_count": null,
      "metadata": {
        "id": "7HIuTtgV0LpB"
      },
      "outputs": [],
      "source": [
        ""
      ]
    }
  ],
  "metadata": {
    "colab": {
      "collapsed_sections": [],
      "name": "Hand Gesture Recognition",
      "provenance": []
    },
    "kernelspec": {
      "display_name": "Python 3",
      "name": "python3"
    },
    "language_info": {
      "name": "python"
    }
  },
  "nbformat": 4,
  "nbformat_minor": 0
}